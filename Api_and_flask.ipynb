{
  "nbformat": 4,
  "nbformat_minor": 0,
  "metadata": {
    "colab": {
      "provenance": []
    },
    "kernelspec": {
      "name": "python3",
      "display_name": "Python 3"
    },
    "language_info": {
      "name": "python"
    }
  },
  "cells": [
    {
      "cell_type": "markdown",
      "source": [
        "1.What is a RESTful API?\n",
        "- A RESTful API is a web service that follows REST (Representational State Transfer) principles. It uses standard HTTP methods like GET, POST, PUT, and DELETE to access and manipulate resources, usually in JSON format. It's stateless and designed for easy scalability and integration."
      ],
      "metadata": {
        "id": "dANvM6Laj0nZ"
      }
    },
    {
      "cell_type": "markdown",
      "source": [
        "2.Explain the concept of API specification?\n",
        "- An API specification is a detailed document that defines how an API works. It includes: / Endpoints (URLs) / Methods (GET, POST, etc.) / Request/response formats / Authentication rules / Error codes\n",
        "- It helps developers understand how to interact with the API correctly."
      ],
      "metadata": {
        "id": "626apQOeksQg"
      }
    },
    {
      "cell_type": "markdown",
      "source": [
        "3.What is Flask, and why is it popular for building API?\n",
        "- Flask is a lightweight Python web framework used to build web apps and API.\n",
        "\n",
        "Simple and easy to use / Minimal setup / Flexible and extensible /Supports RESTful APIs / Good for small to medium projects."
      ],
      "metadata": {
        "id": "2WvzIGjylFcY"
      }
    },
    {
      "cell_type": "markdown",
      "source": [
        "4.What is routing in Flask?\n",
        "- Routing in Flask maps a URL to a function."
      ],
      "metadata": {
        "id": "Yr13JwlYl60j"
      }
    },
    {
      "cell_type": "markdown",
      "source": [
        "5.How do you create a simple Flask application?\n",
        "- To create a simple Flask application: Import Flask module. / Create a Flask app instance. / Define routes using @app.route./ Write view functions that return responses./ Run the app using app.run()."
      ],
      "metadata": {
        "id": "PrGGvKBhmUW2"
      }
    },
    {
      "cell_type": "markdown",
      "source": [
        "6.What are HTTP methods used in RESTful APIs?\n",
        "- Common HTTP methods in RESTful APIs:\n",
        "\n",
        "GET – Retrieve data\n",
        "\n",
        "POST – Create new data\n",
        "\n",
        "PUT – Update existing data\n",
        "\n",
        "DELETE – Remove data\n",
        "\n",
        "PATCH – Partially update data"
      ],
      "metadata": {
        "id": "gJPeBcasm_IE"
      }
    },
    {
      "cell_type": "markdown",
      "source": [
        "7.What is the purpose of the @app.route() decorator in Flask?\n",
        "- The @app.route() decorator maps a URL path to a specific function, defining how the app should respond to that route.\n",
        "\n",
        "\n",
        "\n",
        "\n",
        "\n",
        "\n",
        "\n",
        "\n",
        "\n"
      ],
      "metadata": {
        "id": "3MMQb1DonOAf"
      }
    },
    {
      "cell_type": "markdown",
      "source": [
        "8.What is the difference between GET and POST HTTP methods?\n",
        "- GET: Retrieves data, parameters in URL, no body, safe and cacheable.\n",
        "\n",
        "- POST: Sends data to server, data in body, used for creating or processing.\n",
        "\n",
        "\n",
        "\n",
        "\n",
        "\n",
        "\n",
        "\n",
        "\n",
        "\n"
      ],
      "metadata": {
        "id": "9BaDXOO0qsOC"
      }
    },
    {
      "cell_type": "markdown",
      "source": [
        "9.How do you handle errors in Flask APIs?\n",
        "- In Flask APIs, errors are handled using:\n",
        "\n",
        "- @app.errorhandler() decorator to catch specific errors (e.g., 404, 500)\n",
        "\n",
        "- try-except blocks for custom logic errors\n",
        "\n",
        "- abort() function to return HTTP error codes manually."
      ],
      "metadata": {
        "id": "ZQNp6cJwrB0E"
      }
    },
    {
      "cell_type": "markdown",
      "source": [
        "10.How do you connect Flask to a SQL database?\n",
        "- Connect Flask to a SQL database using:Flask-SQLAlchemy extension /  \n",
        "Configure database URI in app.config / Create models as Python classes\n",
        "/ Use db.create_all() to create tables / Perform queries with SQLAlchemy ORM."
      ],
      "metadata": {
        "id": "QpLv44nXraFm"
      }
    },
    {
      "cell_type": "markdown",
      "source": [
        "11.What is the role of Flask-SQLAlchemy?\n",
        "- Flask-SQLAlchemy simplifies database integration in Flask by providing:\n",
        "- ORM support (mapping classes to tables)\n",
        "- Easy query and database operations\n",
        "- Connection management\n",
        "- Integration with Flask app config"
      ],
      "metadata": {
        "id": "Q1FE9vK1sE7W"
      }
    },
    {
      "cell_type": "markdown",
      "source": [
        "12.What are Flask blueprints, and how are they useful?\n",
        "- Flask Blueprints help organize code by grouping related routes, views, and logic into reusable modules.\n",
        "\n",
        "- Keeps code modular and clean\n",
        "- Allows separation of features (e.g., auth, API)\n",
        "- Easier to maintain and scale large apps"
      ],
      "metadata": {
        "id": "q02YTudIstq7"
      }
    },
    {
      "cell_type": "markdown",
      "source": [
        "13.What is the purpose of Flask's request object?\n",
        "- The request object in Flask provides access to incoming HTTP request data, such as: Form data /Query parameters/ JSON payload / Headers /Request method and URL."
      ],
      "metadata": {
        "id": "feUPk0nAtC46"
      }
    },
    {
      "cell_type": "markdown",
      "source": [
        "14.How do you create a RESTful API endpoint using Flask?\n",
        "- To create a RESTful API endpoint in Flask:\n",
        "  - Define a route using @app.route()\n",
        "\n",
        "  - Set methods (e.g., methods=['GET', 'POST'])\n",
        "\n",
        "  - Write logic in the function to handle the request and return a response (usually JSON)"
      ],
      "metadata": {
        "id": "-CU13mE2tcIP"
      }
    },
    {
      "cell_type": "markdown",
      "source": [
        "15.What is the purpose of Flask's jsonify() function?\n",
        "- The jsonify() function in Flask converts Python data (like dict or list) into a proper JSON response with correct headers and content type."
      ],
      "metadata": {
        "id": "pNhk87Ecttlb"
      }
    },
    {
      "cell_type": "markdown",
      "source": [
        "16.Explain Flask’s url_for() function?\n",
        "- url_for() generates a URL for a given view function name.\n",
        "\n",
        "Purpose: Helps avoid hardcoding URLs and supports dynamic URL building."
      ],
      "metadata": {
        "id": "fRu6pYVht6h5"
      }
    },
    {
      "cell_type": "markdown",
      "source": [
        "17.How does Flask handle static files (CSS, JavaScript, etc.)\n",
        "- Flask serves static files from the static/ folder by default. You access them using /static/ filename or url_for('static', filename='...')."
      ],
      "metadata": {
        "id": "hXg8n00wuLGD"
      }
    },
    {
      "cell_type": "markdown",
      "source": [
        "18.What is an API specification, and how does it help in building a Flask API?\n",
        "- An API specification defines how an API should behave—its endpoints, methods, request/response formats, and errors.\n",
        "\n",
        "- In Flask, it guides consistent design, helps documentation, testing, and integration with clients.\n",
        "\n",
        "\n",
        "\n",
        "\n",
        "\n",
        "\n",
        "\n",
        "\n",
        "\n"
      ],
      "metadata": {
        "id": "wnsCA-FtuikY"
      }
    },
    {
      "cell_type": "markdown",
      "source": [
        "19.What are HTTP status codes, and why are they important in a Flask API?\n",
        "- HTTP status codes indicate the result of a client’s request (e.g., 200 for success, 404 for not found).\n",
        "- In Flask APIs, they help clients understand response outcomes and handle errors properly."
      ],
      "metadata": {
        "id": "Sy59ZQcxux6n"
      }
    },
    {
      "cell_type": "markdown",
      "source": [
        "20.How do you handle POST requests in Flask?\n",
        "- To handle POST requests in Flask:\n",
        "   - Use @app.route(..., methods=['POST'])\n",
        "   - Access data via request.form, request.json, or request.data\n",
        "   - Process the data and return a response"
      ],
      "metadata": {
        "id": "AnkLjoSavClU"
      }
    },
    {
      "cell_type": "markdown",
      "source": [
        "21.How would you secure a Flask API?\n",
        "- To secure a Flask API:\n",
        "   - Use authentication (e.g., token-based, OAuth)\n",
        "   - Enable HTTPS\n",
        "   - Validate and sanitize input data\n",
        "   - Handle errors safely (no sensitive info)\n",
        "   - Use Flask extensions like Flask-JWT, Flask-Login for auth"
      ],
      "metadata": {
        "id": "4ccGL43lvUez"
      }
    },
    {
      "cell_type": "markdown",
      "source": [
        "22.What is the significance of the Flask-RESTful extension?\n",
        "- Flask-RESTful simplifies building REST APIs by:\n",
        "  - Providing a clear structure using Resource classes\n",
        "  - Supporting multiple HTTP methods in one class\n",
        "  - Handling request parsing, responses, and status codes easily"
      ],
      "metadata": {
        "id": "7AZu8CA-v0aX"
      }
    },
    {
      "cell_type": "markdown",
      "source": [
        "23.What is the role of Flask’s session object?\n",
        "- Flask’s session object stores data across requests for a user (like login status).\n",
        "- It uses secure, signed cookies to maintain user-specific data between visits.\n",
        "\n",
        "\n",
        "\n",
        "\n",
        "\n",
        "\n",
        "\n",
        "\n",
        "\n"
      ],
      "metadata": {
        "id": "721aTGn4xIa6"
      }
    },
    {
      "cell_type": "code",
      "source": [
        "# PRACTICAL QUESTION\n",
        "#1.How do you create a basic Flask application?\n",
        "from flask import Flask\n",
        "app = Flask(__name__)\n",
        "\n",
        "@app.route('/')\n",
        "def home():\n",
        "    return 'Welcome to Flask!'\n",
        "\n",
        "if __name__ == '__main__':\n",
        "    app.run()\n",
        "\n"
      ],
      "metadata": {
        "id": "bONz_4eQt5uo"
      },
      "execution_count": null,
      "outputs": []
    },
    {
      "cell_type": "code",
      "source": [
        "#2. How do you serve static files like images or CSS in Flask?\n",
        "<link rel=\"stylesheet\" href=\"{{ url_for('static', filename='style.css') }}\">\n"
      ],
      "metadata": {
        "id": "HQcMoH3Dx8g3"
      },
      "execution_count": null,
      "outputs": []
    },
    {
      "cell_type": "code",
      "source": [
        "#3.How do you define different routes with different HTTP methods in Flask?\n",
        "@app.route('/data', methods=['GET', 'POST'])\n",
        "def handle_data():\n",
        "    return 'Handled GET or POST'\n"
      ],
      "metadata": {
        "id": "ZYDwHnoiyjVd"
      },
      "execution_count": null,
      "outputs": []
    },
    {
      "cell_type": "code",
      "source": [
        "#4.How do you render HTML templates in Flask?\n",
        "from flask import render_template\n",
        "\n",
        "@app.route('/')\n",
        "def home():\n",
        "    return render_template('index.html')\n"
      ],
      "metadata": {
        "id": "gz1ChYvbzLV4"
      },
      "execution_count": null,
      "outputs": []
    },
    {
      "cell_type": "code",
      "source": [
        "#5.How can you generate URLs for routes in Flask using url_for?\n",
        "url_for('home')  # If there's a function named home()\n"
      ],
      "metadata": {
        "id": "lx3byfUNzW-5"
      },
      "execution_count": null,
      "outputs": []
    },
    {
      "cell_type": "code",
      "source": [
        "#6.How do you handle forms in Flask?\n",
        "@app.route('/submit', methods=['POST'])\n",
        "def submit():\n",
        "    name = request.form['name']\n",
        "    return f'Hello, {name}'\n"
      ],
      "metadata": {
        "id": "xFkNaq99zraK"
      },
      "execution_count": null,
      "outputs": []
    },
    {
      "cell_type": "code",
      "source": [
        "#7.@app.route('/submit', methods=['POST'])\n",
        "def submit():\n",
        "    name = request.form['name']\n",
        "    return f'Hello, {name}'\n"
      ],
      "metadata": {
        "id": "RdGl1bFwz6iJ"
      },
      "execution_count": null,
      "outputs": []
    },
    {
      "cell_type": "code",
      "source": [
        "#8.How do you manage sessions in Flask?\n",
        "from flask import session\n",
        "\n",
        "@app.route('/login')\n",
        "def login():\n",
        "    session['user'] = 'admin'\n",
        "    return 'Logged in'\n"
      ],
      "metadata": {
        "id": "7zoFpfHV0Bkv"
      },
      "execution_count": null,
      "outputs": []
    },
    {
      "cell_type": "code",
      "source": [
        "#9.How do you redirect to a different route in Flask?\n",
        "from flask import redirect, url_for\n",
        "\n",
        "@app.route('/go')\n",
        "def go():\n",
        "    return redirect(url_for('home'))\n"
      ],
      "metadata": {
        "id": "whUaNVvF0NoQ"
      },
      "execution_count": 2,
      "outputs": []
    },
    {
      "cell_type": "code",
      "source": [
        "#10.How do you handle errors in Flask (e.g., 404)?\n",
        "@app.errorhandler(404)\n",
        "def page_not_found(e):\n",
        "    return 'Page not found', 404\n"
      ],
      "metadata": {
        "id": "Y6XXQnMS0i64"
      },
      "execution_count": null,
      "outputs": []
    },
    {
      "cell_type": "code",
      "source": [
        "#11.How do you structure a Flask app using Blueprints?\n",
        "from flask import Blueprint\n",
        "\n",
        "bp = Blueprint('main', __name__)\n",
        "\n",
        "@bp.route('/')\n",
        "def home():\n",
        "    return 'Hello from Blueprint'\n",
        "\n",
        "# In main app file\n",
        "app.register_blueprint(bp)\n"
      ],
      "metadata": {
        "id": "OdtZD4bg0yO-"
      },
      "execution_count": 3,
      "outputs": []
    },
    {
      "cell_type": "code",
      "source": [
        "#12.How do you define a custom Jinja filter in Flask?\n",
        "#Use @app.template_filter() to register a custom filter.\n",
        "@app.template_filter('reverse')\n",
        "def reverse_filter(s):\n",
        "    return s[::-1]\n"
      ],
      "metadata": {
        "id": "2PKO3Se40-r9"
      },
      "execution_count": 4,
      "outputs": []
    },
    {
      "cell_type": "code",
      "source": [
        "#13.How can you redirect with query parameters in Flask?\n",
        "#Use url_for() with arguments, then redirect().\n",
        "@app.route('/go')\n",
        "def go():\n",
        "    return redirect(url_for('home', user='admin'))\n"
      ],
      "metadata": {
        "id": "4qGmz7U11OK4"
      },
      "execution_count": null,
      "outputs": []
    },
    {
      "cell_type": "code",
      "source": [
        "#14.How do you return JSON responses in Flask?\n",
        "from flask import jsonify\n",
        "\n",
        "@app.route('/data')\n",
        "def data():\n",
        "    return jsonify({'name': 'Alice', 'age': 30})\n"
      ],
      "metadata": {
        "id": "G9G3L_uF1Zl2"
      },
      "execution_count": null,
      "outputs": []
    },
    {
      "cell_type": "code",
      "source": [
        "#15.How do you capture URL parameters in Flask?\n",
        "#Use angle brackets in the route and access via function args.\n",
        "\n",
        "\n",
        "def show_user(username):\n",
        "    return f'User: {username}'\n",
        "\n",
        "@app.route('/user/<username>')\n",
        "def show_user(username):\n",
        "    return f'User: {username}'\n",
        "\n"
      ],
      "metadata": {
        "id": "-Y2iWDVf2G_d"
      },
      "execution_count": null,
      "outputs": []
    }
  ]
}